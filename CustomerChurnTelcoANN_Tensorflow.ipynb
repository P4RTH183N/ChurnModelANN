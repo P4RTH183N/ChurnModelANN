{
  "nbformat": 4,
  "nbformat_minor": 0,
  "metadata": {
    "colab": {
      "name": "CustomerChurnTelcoANN.ipynb",
      "provenance": [],
      "collapsed_sections": []
    },
    "kernelspec": {
      "name": "python3",
      "display_name": "Python 3"
    }
  },
  "cells": [
    {
      "cell_type": "code",
      "metadata": {
        "id": "ZGgIUDwMKM1M"
      },
      "source": [
        "import pandas as pd\r\n",
        "from matplotlib import pyplot as plt\r\n",
        "import numpy as np\r\n",
        "%matplotlib inline "
      ],
      "execution_count": null,
      "outputs": []
    },
    {
      "cell_type": "code",
      "metadata": {
        "colab": {
          "base_uri": "https://localhost:8080/",
          "height": 309
        },
        "id": "V4LONqyzLV_b",
        "outputId": "7d62bfa7-372d-4bee-ebb8-d91176edb72f"
      },
      "source": [
        "telcodf = pd.read_csv('Telco-Customer-Churn.csv')\r\n",
        "telcodf.sample(5)"
      ],
      "execution_count": null,
      "outputs": [
        {
          "output_type": "execute_result",
          "data": {
            "text/html": [
              "<div>\n",
              "<style scoped>\n",
              "    .dataframe tbody tr th:only-of-type {\n",
              "        vertical-align: middle;\n",
              "    }\n",
              "\n",
              "    .dataframe tbody tr th {\n",
              "        vertical-align: top;\n",
              "    }\n",
              "\n",
              "    .dataframe thead th {\n",
              "        text-align: right;\n",
              "    }\n",
              "</style>\n",
              "<table border=\"1\" class=\"dataframe\">\n",
              "  <thead>\n",
              "    <tr style=\"text-align: right;\">\n",
              "      <th></th>\n",
              "      <th>customerID</th>\n",
              "      <th>gender</th>\n",
              "      <th>SeniorCitizen</th>\n",
              "      <th>Partner</th>\n",
              "      <th>Dependents</th>\n",
              "      <th>tenure</th>\n",
              "      <th>PhoneService</th>\n",
              "      <th>MultipleLines</th>\n",
              "      <th>InternetService</th>\n",
              "      <th>OnlineSecurity</th>\n",
              "      <th>OnlineBackup</th>\n",
              "      <th>DeviceProtection</th>\n",
              "      <th>TechSupport</th>\n",
              "      <th>StreamingTV</th>\n",
              "      <th>StreamingMovies</th>\n",
              "      <th>Contract</th>\n",
              "      <th>PaperlessBilling</th>\n",
              "      <th>PaymentMethod</th>\n",
              "      <th>MonthlyCharges</th>\n",
              "      <th>TotalCharges</th>\n",
              "      <th>Churn</th>\n",
              "    </tr>\n",
              "  </thead>\n",
              "  <tbody>\n",
              "    <tr>\n",
              "      <th>4211</th>\n",
              "      <td>2034-CGRHZ</td>\n",
              "      <td>Male</td>\n",
              "      <td>1</td>\n",
              "      <td>No</td>\n",
              "      <td>No</td>\n",
              "      <td>24</td>\n",
              "      <td>Yes</td>\n",
              "      <td>Yes</td>\n",
              "      <td>Fiber optic</td>\n",
              "      <td>No</td>\n",
              "      <td>Yes</td>\n",
              "      <td>Yes</td>\n",
              "      <td>No</td>\n",
              "      <td>Yes</td>\n",
              "      <td>Yes</td>\n",
              "      <td>Month-to-month</td>\n",
              "      <td>Yes</td>\n",
              "      <td>Credit card (automatic)</td>\n",
              "      <td>102.95</td>\n",
              "      <td>2496.7</td>\n",
              "      <td>Yes</td>\n",
              "    </tr>\n",
              "    <tr>\n",
              "      <th>3206</th>\n",
              "      <td>6972-SNKKW</td>\n",
              "      <td>Female</td>\n",
              "      <td>0</td>\n",
              "      <td>No</td>\n",
              "      <td>No</td>\n",
              "      <td>6</td>\n",
              "      <td>Yes</td>\n",
              "      <td>No</td>\n",
              "      <td>No</td>\n",
              "      <td>No internet service</td>\n",
              "      <td>No internet service</td>\n",
              "      <td>No internet service</td>\n",
              "      <td>No internet service</td>\n",
              "      <td>No internet service</td>\n",
              "      <td>No internet service</td>\n",
              "      <td>Month-to-month</td>\n",
              "      <td>No</td>\n",
              "      <td>Mailed check</td>\n",
              "      <td>20.00</td>\n",
              "      <td>109.2</td>\n",
              "      <td>No</td>\n",
              "    </tr>\n",
              "    <tr>\n",
              "      <th>5636</th>\n",
              "      <td>0601-WZHJF</td>\n",
              "      <td>Male</td>\n",
              "      <td>0</td>\n",
              "      <td>Yes</td>\n",
              "      <td>No</td>\n",
              "      <td>14</td>\n",
              "      <td>No</td>\n",
              "      <td>No phone service</td>\n",
              "      <td>DSL</td>\n",
              "      <td>No</td>\n",
              "      <td>No</td>\n",
              "      <td>No</td>\n",
              "      <td>No</td>\n",
              "      <td>Yes</td>\n",
              "      <td>Yes</td>\n",
              "      <td>Month-to-month</td>\n",
              "      <td>No</td>\n",
              "      <td>Electronic check</td>\n",
              "      <td>46.35</td>\n",
              "      <td>667.7</td>\n",
              "      <td>Yes</td>\n",
              "    </tr>\n",
              "    <tr>\n",
              "      <th>2339</th>\n",
              "      <td>4094-NSEDU</td>\n",
              "      <td>Female</td>\n",
              "      <td>1</td>\n",
              "      <td>No</td>\n",
              "      <td>No</td>\n",
              "      <td>21</td>\n",
              "      <td>Yes</td>\n",
              "      <td>Yes</td>\n",
              "      <td>Fiber optic</td>\n",
              "      <td>No</td>\n",
              "      <td>No</td>\n",
              "      <td>No</td>\n",
              "      <td>No</td>\n",
              "      <td>Yes</td>\n",
              "      <td>Yes</td>\n",
              "      <td>Month-to-month</td>\n",
              "      <td>Yes</td>\n",
              "      <td>Electronic check</td>\n",
              "      <td>94.25</td>\n",
              "      <td>1973.75</td>\n",
              "      <td>Yes</td>\n",
              "    </tr>\n",
              "    <tr>\n",
              "      <th>7009</th>\n",
              "      <td>7703-ZEKEF</td>\n",
              "      <td>Male</td>\n",
              "      <td>0</td>\n",
              "      <td>No</td>\n",
              "      <td>No</td>\n",
              "      <td>23</td>\n",
              "      <td>Yes</td>\n",
              "      <td>Yes</td>\n",
              "      <td>Fiber optic</td>\n",
              "      <td>No</td>\n",
              "      <td>No</td>\n",
              "      <td>Yes</td>\n",
              "      <td>No</td>\n",
              "      <td>No</td>\n",
              "      <td>No</td>\n",
              "      <td>Month-to-month</td>\n",
              "      <td>Yes</td>\n",
              "      <td>Electronic check</td>\n",
              "      <td>81.00</td>\n",
              "      <td>1917.1</td>\n",
              "      <td>Yes</td>\n",
              "    </tr>\n",
              "  </tbody>\n",
              "</table>\n",
              "</div>"
            ],
            "text/plain": [
              "      customerID  gender  SeniorCitizen  ... MonthlyCharges TotalCharges  Churn\n",
              "4211  2034-CGRHZ    Male              1  ...         102.95       2496.7    Yes\n",
              "3206  6972-SNKKW  Female              0  ...          20.00        109.2     No\n",
              "5636  0601-WZHJF    Male              0  ...          46.35        667.7    Yes\n",
              "2339  4094-NSEDU  Female              1  ...          94.25      1973.75    Yes\n",
              "7009  7703-ZEKEF    Male              0  ...          81.00       1917.1    Yes\n",
              "\n",
              "[5 rows x 21 columns]"
            ]
          },
          "metadata": {
            "tags": []
          },
          "execution_count": 6
        }
      ]
    },
    {
      "cell_type": "markdown",
      "metadata": {
        "id": "UxrnEhjDp3wy"
      },
      "source": [
        "We will be dropping customer id column, since this column is not helpful in the modelling that we will be proformming"
      ]
    },
    {
      "cell_type": "code",
      "metadata": {
        "id": "DMNGfHevLxLj"
      },
      "source": [
        "telcodf.drop('customerID',axis='columns',inplace=True)"
      ],
      "execution_count": null,
      "outputs": []
    },
    {
      "cell_type": "code",
      "metadata": {
        "colab": {
          "base_uri": "https://localhost:8080/"
        },
        "id": "p8qm2xrbMpD4",
        "outputId": "6d211b07-7aa6-4e6f-da61-0f7cb40a363c"
      },
      "source": [
        "telcodf.dtypes"
      ],
      "execution_count": null,
      "outputs": [
        {
          "output_type": "execute_result",
          "data": {
            "text/plain": [
              "gender               object\n",
              "SeniorCitizen         int64\n",
              "Partner              object\n",
              "Dependents           object\n",
              "tenure                int64\n",
              "PhoneService         object\n",
              "MultipleLines        object\n",
              "InternetService      object\n",
              "OnlineSecurity       object\n",
              "OnlineBackup         object\n",
              "DeviceProtection     object\n",
              "TechSupport          object\n",
              "StreamingTV          object\n",
              "StreamingMovies      object\n",
              "Contract             object\n",
              "PaperlessBilling     object\n",
              "PaymentMethod        object\n",
              "MonthlyCharges      float64\n",
              "TotalCharges         object\n",
              "Churn                object\n",
              "dtype: object"
            ]
          },
          "metadata": {
            "tags": []
          },
          "execution_count": 10
        }
      ]
    },
    {
      "cell_type": "markdown",
      "metadata": {
        "id": "I5KNgDSiqqro"
      },
      "source": [
        "Change **\"TotalCharges\"** data type to object"
      ]
    },
    {
      "cell_type": "code",
      "metadata": {
        "id": "e6MBPUdXMbfd"
      },
      "source": [
        "pd.to_numeric(telcodf.TotalCharges)\r\n",
        "telcodf.dtypes"
      ],
      "execution_count": null,
      "outputs": []
    },
    {
      "cell_type": "code",
      "metadata": {
        "colab": {
          "base_uri": "https://localhost:8080/"
        },
        "id": "7kAP9ZrjNS3x",
        "outputId": "43b94621-4717-4152-a611-87bb40165470"
      },
      "source": [
        "pd.to_numeric(telcodf.TotalCharges,errors='coerce').isnull()"
      ],
      "execution_count": null,
      "outputs": [
        {
          "output_type": "execute_result",
          "data": {
            "text/plain": [
              "0       False\n",
              "1       False\n",
              "2       False\n",
              "3       False\n",
              "4       False\n",
              "        ...  \n",
              "7038    False\n",
              "7039    False\n",
              "7040    False\n",
              "7041    False\n",
              "7042    False\n",
              "Name: TotalCharges, Length: 7043, dtype: bool"
            ]
          },
          "metadata": {
            "tags": []
          },
          "execution_count": 13
        }
      ]
    },
    {
      "cell_type": "code",
      "metadata": {
        "colab": {
          "base_uri": "https://localhost:8080/",
          "height": 563
        },
        "id": "Eayd8IH6OZzz",
        "outputId": "e3872832-4556-4e75-a3b8-cbaf9dc35309"
      },
      "source": [
        "telcodf[pd.to_numeric(telcodf.TotalCharges,errors='coerce').isnull()]"
      ],
      "execution_count": null,
      "outputs": [
        {
          "output_type": "execute_result",
          "data": {
            "text/html": [
              "<div>\n",
              "<style scoped>\n",
              "    .dataframe tbody tr th:only-of-type {\n",
              "        vertical-align: middle;\n",
              "    }\n",
              "\n",
              "    .dataframe tbody tr th {\n",
              "        vertical-align: top;\n",
              "    }\n",
              "\n",
              "    .dataframe thead th {\n",
              "        text-align: right;\n",
              "    }\n",
              "</style>\n",
              "<table border=\"1\" class=\"dataframe\">\n",
              "  <thead>\n",
              "    <tr style=\"text-align: right;\">\n",
              "      <th></th>\n",
              "      <th>gender</th>\n",
              "      <th>SeniorCitizen</th>\n",
              "      <th>Partner</th>\n",
              "      <th>Dependents</th>\n",
              "      <th>tenure</th>\n",
              "      <th>PhoneService</th>\n",
              "      <th>MultipleLines</th>\n",
              "      <th>InternetService</th>\n",
              "      <th>OnlineSecurity</th>\n",
              "      <th>OnlineBackup</th>\n",
              "      <th>DeviceProtection</th>\n",
              "      <th>TechSupport</th>\n",
              "      <th>StreamingTV</th>\n",
              "      <th>StreamingMovies</th>\n",
              "      <th>Contract</th>\n",
              "      <th>PaperlessBilling</th>\n",
              "      <th>PaymentMethod</th>\n",
              "      <th>MonthlyCharges</th>\n",
              "      <th>TotalCharges</th>\n",
              "      <th>Churn</th>\n",
              "    </tr>\n",
              "  </thead>\n",
              "  <tbody>\n",
              "    <tr>\n",
              "      <th>488</th>\n",
              "      <td>Female</td>\n",
              "      <td>0</td>\n",
              "      <td>Yes</td>\n",
              "      <td>Yes</td>\n",
              "      <td>0</td>\n",
              "      <td>No</td>\n",
              "      <td>No phone service</td>\n",
              "      <td>DSL</td>\n",
              "      <td>Yes</td>\n",
              "      <td>No</td>\n",
              "      <td>Yes</td>\n",
              "      <td>Yes</td>\n",
              "      <td>Yes</td>\n",
              "      <td>No</td>\n",
              "      <td>Two year</td>\n",
              "      <td>Yes</td>\n",
              "      <td>Bank transfer (automatic)</td>\n",
              "      <td>52.55</td>\n",
              "      <td></td>\n",
              "      <td>No</td>\n",
              "    </tr>\n",
              "    <tr>\n",
              "      <th>753</th>\n",
              "      <td>Male</td>\n",
              "      <td>0</td>\n",
              "      <td>No</td>\n",
              "      <td>Yes</td>\n",
              "      <td>0</td>\n",
              "      <td>Yes</td>\n",
              "      <td>No</td>\n",
              "      <td>No</td>\n",
              "      <td>No internet service</td>\n",
              "      <td>No internet service</td>\n",
              "      <td>No internet service</td>\n",
              "      <td>No internet service</td>\n",
              "      <td>No internet service</td>\n",
              "      <td>No internet service</td>\n",
              "      <td>Two year</td>\n",
              "      <td>No</td>\n",
              "      <td>Mailed check</td>\n",
              "      <td>20.25</td>\n",
              "      <td></td>\n",
              "      <td>No</td>\n",
              "    </tr>\n",
              "    <tr>\n",
              "      <th>936</th>\n",
              "      <td>Female</td>\n",
              "      <td>0</td>\n",
              "      <td>Yes</td>\n",
              "      <td>Yes</td>\n",
              "      <td>0</td>\n",
              "      <td>Yes</td>\n",
              "      <td>No</td>\n",
              "      <td>DSL</td>\n",
              "      <td>Yes</td>\n",
              "      <td>Yes</td>\n",
              "      <td>Yes</td>\n",
              "      <td>No</td>\n",
              "      <td>Yes</td>\n",
              "      <td>Yes</td>\n",
              "      <td>Two year</td>\n",
              "      <td>No</td>\n",
              "      <td>Mailed check</td>\n",
              "      <td>80.85</td>\n",
              "      <td></td>\n",
              "      <td>No</td>\n",
              "    </tr>\n",
              "    <tr>\n",
              "      <th>1082</th>\n",
              "      <td>Male</td>\n",
              "      <td>0</td>\n",
              "      <td>Yes</td>\n",
              "      <td>Yes</td>\n",
              "      <td>0</td>\n",
              "      <td>Yes</td>\n",
              "      <td>Yes</td>\n",
              "      <td>No</td>\n",
              "      <td>No internet service</td>\n",
              "      <td>No internet service</td>\n",
              "      <td>No internet service</td>\n",
              "      <td>No internet service</td>\n",
              "      <td>No internet service</td>\n",
              "      <td>No internet service</td>\n",
              "      <td>Two year</td>\n",
              "      <td>No</td>\n",
              "      <td>Mailed check</td>\n",
              "      <td>25.75</td>\n",
              "      <td></td>\n",
              "      <td>No</td>\n",
              "    </tr>\n",
              "    <tr>\n",
              "      <th>1340</th>\n",
              "      <td>Female</td>\n",
              "      <td>0</td>\n",
              "      <td>Yes</td>\n",
              "      <td>Yes</td>\n",
              "      <td>0</td>\n",
              "      <td>No</td>\n",
              "      <td>No phone service</td>\n",
              "      <td>DSL</td>\n",
              "      <td>Yes</td>\n",
              "      <td>Yes</td>\n",
              "      <td>Yes</td>\n",
              "      <td>Yes</td>\n",
              "      <td>Yes</td>\n",
              "      <td>No</td>\n",
              "      <td>Two year</td>\n",
              "      <td>No</td>\n",
              "      <td>Credit card (automatic)</td>\n",
              "      <td>56.05</td>\n",
              "      <td></td>\n",
              "      <td>No</td>\n",
              "    </tr>\n",
              "    <tr>\n",
              "      <th>3331</th>\n",
              "      <td>Male</td>\n",
              "      <td>0</td>\n",
              "      <td>Yes</td>\n",
              "      <td>Yes</td>\n",
              "      <td>0</td>\n",
              "      <td>Yes</td>\n",
              "      <td>No</td>\n",
              "      <td>No</td>\n",
              "      <td>No internet service</td>\n",
              "      <td>No internet service</td>\n",
              "      <td>No internet service</td>\n",
              "      <td>No internet service</td>\n",
              "      <td>No internet service</td>\n",
              "      <td>No internet service</td>\n",
              "      <td>Two year</td>\n",
              "      <td>No</td>\n",
              "      <td>Mailed check</td>\n",
              "      <td>19.85</td>\n",
              "      <td></td>\n",
              "      <td>No</td>\n",
              "    </tr>\n",
              "    <tr>\n",
              "      <th>3826</th>\n",
              "      <td>Male</td>\n",
              "      <td>0</td>\n",
              "      <td>Yes</td>\n",
              "      <td>Yes</td>\n",
              "      <td>0</td>\n",
              "      <td>Yes</td>\n",
              "      <td>Yes</td>\n",
              "      <td>No</td>\n",
              "      <td>No internet service</td>\n",
              "      <td>No internet service</td>\n",
              "      <td>No internet service</td>\n",
              "      <td>No internet service</td>\n",
              "      <td>No internet service</td>\n",
              "      <td>No internet service</td>\n",
              "      <td>Two year</td>\n",
              "      <td>No</td>\n",
              "      <td>Mailed check</td>\n",
              "      <td>25.35</td>\n",
              "      <td></td>\n",
              "      <td>No</td>\n",
              "    </tr>\n",
              "    <tr>\n",
              "      <th>4380</th>\n",
              "      <td>Female</td>\n",
              "      <td>0</td>\n",
              "      <td>Yes</td>\n",
              "      <td>Yes</td>\n",
              "      <td>0</td>\n",
              "      <td>Yes</td>\n",
              "      <td>No</td>\n",
              "      <td>No</td>\n",
              "      <td>No internet service</td>\n",
              "      <td>No internet service</td>\n",
              "      <td>No internet service</td>\n",
              "      <td>No internet service</td>\n",
              "      <td>No internet service</td>\n",
              "      <td>No internet service</td>\n",
              "      <td>Two year</td>\n",
              "      <td>No</td>\n",
              "      <td>Mailed check</td>\n",
              "      <td>20.00</td>\n",
              "      <td></td>\n",
              "      <td>No</td>\n",
              "    </tr>\n",
              "    <tr>\n",
              "      <th>5218</th>\n",
              "      <td>Male</td>\n",
              "      <td>0</td>\n",
              "      <td>Yes</td>\n",
              "      <td>Yes</td>\n",
              "      <td>0</td>\n",
              "      <td>Yes</td>\n",
              "      <td>No</td>\n",
              "      <td>No</td>\n",
              "      <td>No internet service</td>\n",
              "      <td>No internet service</td>\n",
              "      <td>No internet service</td>\n",
              "      <td>No internet service</td>\n",
              "      <td>No internet service</td>\n",
              "      <td>No internet service</td>\n",
              "      <td>One year</td>\n",
              "      <td>Yes</td>\n",
              "      <td>Mailed check</td>\n",
              "      <td>19.70</td>\n",
              "      <td></td>\n",
              "      <td>No</td>\n",
              "    </tr>\n",
              "    <tr>\n",
              "      <th>6670</th>\n",
              "      <td>Female</td>\n",
              "      <td>0</td>\n",
              "      <td>Yes</td>\n",
              "      <td>Yes</td>\n",
              "      <td>0</td>\n",
              "      <td>Yes</td>\n",
              "      <td>Yes</td>\n",
              "      <td>DSL</td>\n",
              "      <td>No</td>\n",
              "      <td>Yes</td>\n",
              "      <td>Yes</td>\n",
              "      <td>Yes</td>\n",
              "      <td>Yes</td>\n",
              "      <td>No</td>\n",
              "      <td>Two year</td>\n",
              "      <td>No</td>\n",
              "      <td>Mailed check</td>\n",
              "      <td>73.35</td>\n",
              "      <td></td>\n",
              "      <td>No</td>\n",
              "    </tr>\n",
              "    <tr>\n",
              "      <th>6754</th>\n",
              "      <td>Male</td>\n",
              "      <td>0</td>\n",
              "      <td>No</td>\n",
              "      <td>Yes</td>\n",
              "      <td>0</td>\n",
              "      <td>Yes</td>\n",
              "      <td>Yes</td>\n",
              "      <td>DSL</td>\n",
              "      <td>Yes</td>\n",
              "      <td>Yes</td>\n",
              "      <td>No</td>\n",
              "      <td>Yes</td>\n",
              "      <td>No</td>\n",
              "      <td>No</td>\n",
              "      <td>Two year</td>\n",
              "      <td>Yes</td>\n",
              "      <td>Bank transfer (automatic)</td>\n",
              "      <td>61.90</td>\n",
              "      <td></td>\n",
              "      <td>No</td>\n",
              "    </tr>\n",
              "  </tbody>\n",
              "</table>\n",
              "</div>"
            ],
            "text/plain": [
              "      gender  SeniorCitizen Partner  ... MonthlyCharges  TotalCharges Churn\n",
              "488   Female              0     Yes  ...          52.55                  No\n",
              "753     Male              0      No  ...          20.25                  No\n",
              "936   Female              0     Yes  ...          80.85                  No\n",
              "1082    Male              0     Yes  ...          25.75                  No\n",
              "1340  Female              0     Yes  ...          56.05                  No\n",
              "3331    Male              0     Yes  ...          19.85                  No\n",
              "3826    Male              0     Yes  ...          25.35                  No\n",
              "4380  Female              0     Yes  ...          20.00                  No\n",
              "5218    Male              0     Yes  ...          19.70                  No\n",
              "6670  Female              0     Yes  ...          73.35                  No\n",
              "6754    Male              0      No  ...          61.90                  No\n",
              "\n",
              "[11 rows x 20 columns]"
            ]
          },
          "metadata": {
            "tags": []
          },
          "execution_count": 15
        }
      ]
    },
    {
      "cell_type": "code",
      "metadata": {
        "id": "k-s6YE9gOqUp"
      },
      "source": [
        "telcodf2 = telcodf[telcodf.TotalCharges != ' ']"
      ],
      "execution_count": null,
      "outputs": []
    },
    {
      "cell_type": "code",
      "metadata": {
        "colab": {
          "base_uri": "https://localhost:8080/"
        },
        "id": "y2ndyesbU3no",
        "outputId": "d63da132-ad82-4335-81c5-437ae14792ec"
      },
      "source": [
        "telcodf.shape"
      ],
      "execution_count": null,
      "outputs": [
        {
          "output_type": "execute_result",
          "data": {
            "text/plain": [
              "(7043, 20)"
            ]
          },
          "metadata": {
            "tags": []
          },
          "execution_count": 21
        }
      ]
    },
    {
      "cell_type": "code",
      "metadata": {
        "colab": {
          "base_uri": "https://localhost:8080/"
        },
        "id": "aFlzhVxDPT7n",
        "outputId": "b92d336d-12b1-4d89-e1c0-4f9d44eac9b7"
      },
      "source": [
        "telcodf2.shape"
      ],
      "execution_count": null,
      "outputs": [
        {
          "output_type": "execute_result",
          "data": {
            "text/plain": [
              "(7032, 20)"
            ]
          },
          "metadata": {
            "tags": []
          },
          "execution_count": 23
        }
      ]
    },
    {
      "cell_type": "code",
      "metadata": {
        "id": "8Xo4_tS9PZl1"
      },
      "source": [
        "telcodf2.TotalCharges = pd.to_numeric(telcodf2.TotalCharges)"
      ],
      "execution_count": null,
      "outputs": []
    },
    {
      "cell_type": "markdown",
      "metadata": {
        "id": "CpoXNiqpr54Q"
      },
      "source": [
        "Column **\"TotalCharges\"** changed the datatype"
      ]
    },
    {
      "cell_type": "code",
      "metadata": {
        "colab": {
          "base_uri": "https://localhost:8080/"
        },
        "id": "DfF4RMCnVKPY",
        "outputId": "2c46986b-fba0-4d62-8b25-8adbc7644b6c"
      },
      "source": [
        "telcodf2.dtypes"
      ],
      "execution_count": null,
      "outputs": [
        {
          "output_type": "execute_result",
          "data": {
            "text/plain": [
              "gender               object\n",
              "SeniorCitizen         int64\n",
              "Partner              object\n",
              "Dependents           object\n",
              "tenure                int64\n",
              "PhoneService         object\n",
              "MultipleLines        object\n",
              "InternetService      object\n",
              "OnlineSecurity       object\n",
              "OnlineBackup         object\n",
              "DeviceProtection     object\n",
              "TechSupport          object\n",
              "StreamingTV          object\n",
              "StreamingMovies      object\n",
              "Contract             object\n",
              "PaperlessBilling     object\n",
              "PaymentMethod        object\n",
              "MonthlyCharges      float64\n",
              "TotalCharges        float64\n",
              "Churn                object\n",
              "dtype: object"
            ]
          },
          "metadata": {
            "tags": []
          },
          "execution_count": 25
        }
      ]
    },
    {
      "cell_type": "markdown",
      "metadata": {
        "id": "Mq-qL-oyWnPQ"
      },
      "source": [
        "**How many of the loyal customers are leaving **"
      ]
    },
    {
      "cell_type": "code",
      "metadata": {
        "colab": {
          "base_uri": "https://localhost:8080/",
          "height": 366
        },
        "id": "9MPF6Wj3WX_Y",
        "outputId": "a573838e-c74c-4042-fc1e-0f2d8536b482"
      },
      "source": [
        "tenure_churn_no = telcodf2[telcodf2.Churn =='No'].tenure\r\n",
        "tenure_churn_yes = telcodf2[telcodf2.Churn =='Yes'].tenure\r\n",
        "\r\n",
        "plt.xlabel(\"Tenure\")\r\n",
        "plt.ylabel(\"Number of Customers\")\r\n",
        "plt.title(\"Customer Churn Prediction Visualization\")\r\n",
        "\r\n",
        "plt.hist([tenure_churn_yes,tenure_churn_no],\r\n",
        "         color=['green','red'],\r\n",
        "         label = ['Churn = Yes','Churn = No'])\r\n",
        "plt.legend()"
      ],
      "execution_count": null,
      "outputs": [
        {
          "output_type": "stream",
          "text": [
            "/usr/local/lib/python3.7/dist-packages/numpy/core/_asarray.py:83: VisibleDeprecationWarning: Creating an ndarray from ragged nested sequences (which is a list-or-tuple of lists-or-tuples-or ndarrays with different lengths or shapes) is deprecated. If you meant to do this, you must specify 'dtype=object' when creating the ndarray\n",
            "  return array(a, dtype, copy=False, order=order)\n"
          ],
          "name": "stderr"
        },
        {
          "output_type": "execute_result",
          "data": {
            "text/plain": [
              "<matplotlib.legend.Legend at 0x7fa27f01d750>"
            ]
          },
          "metadata": {
            "tags": []
          },
          "execution_count": 34
        },
        {
          "output_type": "display_data",
          "data": {
            "image/png": "[encoded data removed]",
            "text/plain": [
              "<Figure size 432x288 with 1 Axes>"
            ]
          },
          "metadata": {
            "tags": [],
            "needs_background": "light"
          }
        }
      ]
    },
    {
      "cell_type": "code",
      "metadata": {
        "colab": {
          "base_uri": "https://localhost:8080/",
          "height": 366
        },
        "id": "lNeCpMnvXRZZ",
        "outputId": "7ca25b67-ca7f-47a4-8350-ae2354f2e1af"
      },
      "source": [
        "MonthlyCharges_churn_no = telcodf2[telcodf2.Churn =='No'].MonthlyCharges      \r\n",
        "MonthlyCharges_churn_yes = telcodf2[telcodf2.Churn =='Yes'].MonthlyCharges      \r\n",
        "\r\n",
        "plt.xlabel(\"MonthlyCharges\")\r\n",
        "plt.ylabel(\"Number of Customers\")\r\n",
        "plt.title(\"Customer Churn Prediction Visualization\")\r\n",
        "\r\n",
        "plt.hist([MonthlyCharges_churn_yes,MonthlyCharges_churn_no],\r\n",
        "         color=['green','red'],\r\n",
        "         label = ['Churn = Yes','Churn = No'])\r\n",
        "plt.legend()"
      ],
      "execution_count": null,
      "outputs": [
        {
          "output_type": "stream",
          "text": [
            "/usr/local/lib/python3.7/dist-packages/numpy/core/_asarray.py:83: VisibleDeprecationWarning: Creating an ndarray from ragged nested sequences (which is a list-or-tuple of lists-or-tuples-or ndarrays with different lengths or shapes) is deprecated. If you meant to do this, you must specify 'dtype=object' when creating the ndarray\n",
            "  return array(a, dtype, copy=False, order=order)\n"
          ],
          "name": "stderr"
        },
        {
          "output_type": "execute_result",
          "data": {
            "text/plain": [
              "<matplotlib.legend.Legend at 0x7fa27ef504d0>"
            ]
          },
          "metadata": {
            "tags": []
          },
          "execution_count": 35
        },
        {
          "output_type": "display_data",
          "data": {
            "image/png": "[encoded data removed]",
            "text/plain": [
              "<Figure size 432x288 with 1 Axes>"
            ]
          },
          "metadata": {
            "tags": [],
            "needs_background": "light"
          }
        }
      ]
    },
    {
      "cell_type": "code",
      "metadata": {
        "id": "Kzc2CW0SZvaR"
      },
      "source": [
        "def print_unique_col_values(df):\r\n",
        "  for column in df:\r\n",
        "    if df[column].dtypes == 'object':\r\n",
        "      print(f'{column} : {df[column].unique()}')"
      ],
      "execution_count": null,
      "outputs": []
    },
    {
      "cell_type": "code",
      "metadata": {
        "colab": {
          "base_uri": "https://localhost:8080/"
        },
        "id": "QjJBnzVfjo33",
        "outputId": "4abfc0a9-6d9d-4008-c3db-a1a52d1b928d"
      },
      "source": [
        "telcodf2.replace('No internet service','No',inplace=True)"
      ],
      "execution_count": null,
      "outputs": [
        {
          "output_type": "stream",
          "text": [
            "/usr/local/lib/python3.7/dist-packages/pandas/core/frame.py:4389: SettingWithCopyWarning: \n",
            "A value is trying to be set on a copy of a slice from a DataFrame\n",
            "\n",
            "See the caveats in the documentation: https://pandas.pydata.org/pandas-docs/stable/user_guide/indexing.html#returning-a-view-versus-a-copy\n",
            "  method=method,\n"
          ],
          "name": "stderr"
        }
      ]
    },
    {
      "cell_type": "code",
      "metadata": {
        "colab": {
          "base_uri": "https://localhost:8080/"
        },
        "id": "lQsl6E_WkIyb",
        "outputId": "07e9b126-646a-4b58-c5fc-4be63d2087e9"
      },
      "source": [
        "telcodf2.replace('No phone service','No',inplace=True)"
      ],
      "execution_count": null,
      "outputs": [
        {
          "output_type": "stream",
          "text": [
            "/usr/local/lib/python3.7/dist-packages/pandas/core/frame.py:4389: SettingWithCopyWarning: \n",
            "A value is trying to be set on a copy of a slice from a DataFrame\n",
            "\n",
            "See the caveats in the documentation: https://pandas.pydata.org/pandas-docs/stable/user_guide/indexing.html#returning-a-view-versus-a-copy\n",
            "  method=method,\n"
          ],
          "name": "stderr"
        }
      ]
    },
    {
      "cell_type": "code",
      "metadata": {
        "colab": {
          "base_uri": "https://localhost:8080/"
        },
        "id": "pd7iBGBLkght",
        "outputId": "4473e1c9-436a-4a4b-b38d-c506deef826e"
      },
      "source": [
        "print_unique_col_values(telcodf2)"
      ],
      "execution_count": null,
      "outputs": [
        {
          "output_type": "stream",
          "text": [
            "gender : ['Female' 'Male']\n",
            "Partner : ['Yes' 'No']\n",
            "Dependents : ['No' 'Yes']\n",
            "PhoneService : ['No' 'Yes']\n",
            "MultipleLines : ['No' 'Yes']\n",
            "InternetService : ['DSL' 'Fiber optic' 'No']\n",
            "OnlineSecurity : ['No' 'Yes']\n",
            "OnlineBackup : ['Yes' 'No']\n",
            "DeviceProtection : ['No' 'Yes']\n",
            "TechSupport : ['No' 'Yes']\n",
            "StreamingTV : ['No' 'Yes']\n",
            "StreamingMovies : ['No' 'Yes']\n",
            "Contract : ['Month-to-month' 'One year' 'Two year']\n",
            "PaperlessBilling : ['Yes' 'No']\n",
            "PaymentMethod : ['Electronic check' 'Mailed check' 'Bank transfer (automatic)'\n",
            " 'Credit card (automatic)']\n",
            "Churn : ['No' 'Yes']\n"
          ],
          "name": "stdout"
        }
      ]
    },
    {
      "cell_type": "code",
      "metadata": {
        "id": "rjnHtC6UlDpT"
      },
      "source": [
        "yes_no_columns =['Partner','Dependents','PhoneService','MultipleLines',\r\n",
        "                 'OnlineSecurity','OnlineBackup','DeviceProtection','TechSupport',\r\n",
        "                 'StreamingTV','StreamingMovies','PaperlessBilling',\r\n",
        "                 'Churn']\r\n",
        "\r\n",
        "for col in yes_no_columns:\r\n",
        "  telcodf2[col].replace({'Yes': 1,'No': 0},inplace=True)\r\n"
      ],
      "execution_count": null,
      "outputs": []
    },
    {
      "cell_type": "code",
      "metadata": {
        "colab": {
          "base_uri": "https://localhost:8080/"
        },
        "id": "-8BGLl8onaX2",
        "outputId": "ee6efeb4-424a-4879-f0a4-62215cd3bed8"
      },
      "source": [
        "print_unique_col_values(telcodf2)"
      ],
      "execution_count": null,
      "outputs": [
        {
          "output_type": "stream",
          "text": [
            "gender : ['Female' 'Male']\n",
            "InternetService : ['DSL' 'Fiber optic' 'No']\n",
            "Contract : ['Month-to-month' 'One year' 'Two year']\n",
            "PaymentMethod : ['Electronic check' 'Mailed check' 'Bank transfer (automatic)'\n",
            " 'Credit card (automatic)']\n"
          ],
          "name": "stdout"
        }
      ]
    },
    {
      "cell_type": "code",
      "metadata": {
        "colab": {
          "base_uri": "https://localhost:8080/"
        },
        "id": "IpDrsI2cqKws",
        "outputId": "38e3f128-af07-4e4e-d93f-345550d2d2ee"
      },
      "source": [
        "  telcodf2['gender'].replace({'Female': 1,'Male': 0},inplace=True)"
      ],
      "execution_count": null,
      "outputs": [
        {
          "output_type": "stream",
          "text": [
            "/usr/local/lib/python3.7/dist-packages/pandas/core/series.py:4582: SettingWithCopyWarning: \n",
            "A value is trying to be set on a copy of a slice from a DataFrame\n",
            "\n",
            "See the caveats in the documentation: https://pandas.pydata.org/pandas-docs/stable/user_guide/indexing.html#returning-a-view-versus-a-copy\n",
            "  method=method,\n"
          ],
          "name": "stderr"
        }
      ]
    },
    {
      "cell_type": "markdown",
      "metadata": {
        "id": "DoUaX5iyrA03"
      },
      "source": [
        "# **One-Hot Encode**"
      ]
    },
    {
      "cell_type": "code",
      "metadata": {
        "id": "tJ_foQcPq_8P"
      },
      "source": [
        "telcodf3 = pd.get_dummies(data=telcodf2,columns=['InternetService','Contract','PaymentMethod'])"
      ],
      "execution_count": null,
      "outputs": []
    },
    {
      "cell_type": "code",
      "metadata": {
        "colab": {
          "base_uri": "https://localhost:8080/",
          "height": 196
        },
        "id": "RZAuhHPGqdUT",
        "outputId": "2a3e5ed1-a4c1-458d-d2f7-6fb8b4e4a590"
      },
      "source": [
        "telcodf3.sample(3)"
      ],
      "execution_count": null,
      "outputs": [
        {
          "output_type": "execute_result",
          "data": {
            "text/html": [
              "<div>\n",
              "<style scoped>\n",
              "    .dataframe tbody tr th:only-of-type {\n",
              "        vertical-align: middle;\n",
              "    }\n",
              "\n",
              "    .dataframe tbody tr th {\n",
              "        vertical-align: top;\n",
              "    }\n",
              "\n",
              "    .dataframe thead th {\n",
              "        text-align: right;\n",
              "    }\n",
              "</style>\n",
              "<table border=\"1\" class=\"dataframe\">\n",
              "  <thead>\n",
              "    <tr style=\"text-align: right;\">\n",
              "      <th></th>\n",
              "      <th>gender</th>\n",
              "      <th>SeniorCitizen</th>\n",
              "      <th>Partner</th>\n",
              "      <th>Dependents</th>\n",
              "      <th>tenure</th>\n",
              "      <th>PhoneService</th>\n",
              "      <th>MultipleLines</th>\n",
              "      <th>OnlineSecurity</th>\n",
              "      <th>OnlineBackup</th>\n",
              "      <th>DeviceProtection</th>\n",
              "      <th>TechSupport</th>\n",
              "      <th>StreamingTV</th>\n",
              "      <th>StreamingMovies</th>\n",
              "      <th>PaperlessBilling</th>\n",
              "      <th>MonthlyCharges</th>\n",
              "      <th>TotalCharges</th>\n",
              "      <th>Churn</th>\n",
              "      <th>InternetService_DSL</th>\n",
              "      <th>InternetService_Fiber optic</th>\n",
              "      <th>InternetService_No</th>\n",
              "      <th>Contract_Month-to-month</th>\n",
              "      <th>Contract_One year</th>\n",
              "      <th>Contract_Two year</th>\n",
              "      <th>PaymentMethod_Bank transfer (automatic)</th>\n",
              "      <th>PaymentMethod_Credit card (automatic)</th>\n",
              "      <th>PaymentMethod_Electronic check</th>\n",
              "      <th>PaymentMethod_Mailed check</th>\n",
              "    </tr>\n",
              "  </thead>\n",
              "  <tbody>\n",
              "    <tr>\n",
              "      <th>5050</th>\n",
              "      <td>0</td>\n",
              "      <td>0</td>\n",
              "      <td>1</td>\n",
              "      <td>0</td>\n",
              "      <td>66</td>\n",
              "      <td>1</td>\n",
              "      <td>1</td>\n",
              "      <td>1</td>\n",
              "      <td>0</td>\n",
              "      <td>1</td>\n",
              "      <td>0</td>\n",
              "      <td>1</td>\n",
              "      <td>1</td>\n",
              "      <td>1</td>\n",
              "      <td>106.05</td>\n",
              "      <td>6981.35</td>\n",
              "      <td>1</td>\n",
              "      <td>0</td>\n",
              "      <td>1</td>\n",
              "      <td>0</td>\n",
              "      <td>0</td>\n",
              "      <td>0</td>\n",
              "      <td>1</td>\n",
              "      <td>0</td>\n",
              "      <td>1</td>\n",
              "      <td>0</td>\n",
              "      <td>0</td>\n",
              "    </tr>\n",
              "    <tr>\n",
              "      <th>5171</th>\n",
              "      <td>1</td>\n",
              "      <td>0</td>\n",
              "      <td>1</td>\n",
              "      <td>0</td>\n",
              "      <td>12</td>\n",
              "      <td>1</td>\n",
              "      <td>0</td>\n",
              "      <td>0</td>\n",
              "      <td>0</td>\n",
              "      <td>0</td>\n",
              "      <td>0</td>\n",
              "      <td>0</td>\n",
              "      <td>0</td>\n",
              "      <td>0</td>\n",
              "      <td>45.90</td>\n",
              "      <td>505.95</td>\n",
              "      <td>0</td>\n",
              "      <td>1</td>\n",
              "      <td>0</td>\n",
              "      <td>0</td>\n",
              "      <td>1</td>\n",
              "      <td>0</td>\n",
              "      <td>0</td>\n",
              "      <td>1</td>\n",
              "      <td>0</td>\n",
              "      <td>0</td>\n",
              "      <td>0</td>\n",
              "    </tr>\n",
              "    <tr>\n",
              "      <th>1037</th>\n",
              "      <td>1</td>\n",
              "      <td>0</td>\n",
              "      <td>0</td>\n",
              "      <td>0</td>\n",
              "      <td>13</td>\n",
              "      <td>0</td>\n",
              "      <td>0</td>\n",
              "      <td>0</td>\n",
              "      <td>0</td>\n",
              "      <td>1</td>\n",
              "      <td>0</td>\n",
              "      <td>1</td>\n",
              "      <td>1</td>\n",
              "      <td>0</td>\n",
              "      <td>49.15</td>\n",
              "      <td>649.40</td>\n",
              "      <td>0</td>\n",
              "      <td>1</td>\n",
              "      <td>0</td>\n",
              "      <td>0</td>\n",
              "      <td>1</td>\n",
              "      <td>0</td>\n",
              "      <td>0</td>\n",
              "      <td>0</td>\n",
              "      <td>0</td>\n",
              "      <td>1</td>\n",
              "      <td>0</td>\n",
              "    </tr>\n",
              "  </tbody>\n",
              "</table>\n",
              "</div>"
            ],
            "text/plain": [
              "      gender  ...  PaymentMethod_Mailed check\n",
              "5050       0  ...                           0\n",
              "5171       1  ...                           0\n",
              "1037       1  ...                           0\n",
              "\n",
              "[3 rows x 27 columns]"
            ]
          },
          "metadata": {
            "tags": []
          },
          "execution_count": 58
        }
      ]
    },
    {
      "cell_type": "code",
      "metadata": {
        "colab": {
          "base_uri": "https://localhost:8080/"
        },
        "id": "pgdERVDxr5zr",
        "outputId": "bf81bcca-9fae-4fd8-b093-8351fc095254"
      },
      "source": [
        "telcodf3.dtypes"
      ],
      "execution_count": null,
      "outputs": [
        {
          "output_type": "execute_result",
          "data": {
            "text/plain": [
              "gender                                       int64\n",
              "SeniorCitizen                                int64\n",
              "Partner                                      int64\n",
              "Dependents                                   int64\n",
              "tenure                                       int64\n",
              "PhoneService                                 int64\n",
              "MultipleLines                                int64\n",
              "OnlineSecurity                               int64\n",
              "OnlineBackup                                 int64\n",
              "DeviceProtection                             int64\n",
              "TechSupport                                  int64\n",
              "StreamingTV                                  int64\n",
              "StreamingMovies                              int64\n",
              "PaperlessBilling                             int64\n",
              "MonthlyCharges                             float64\n",
              "TotalCharges                               float64\n",
              "Churn                                        int64\n",
              "InternetService_DSL                          uint8\n",
              "InternetService_Fiber optic                  uint8\n",
              "InternetService_No                           uint8\n",
              "Contract_Month-to-month                      uint8\n",
              "Contract_One year                            uint8\n",
              "Contract_Two year                            uint8\n",
              "PaymentMethod_Bank transfer (automatic)      uint8\n",
              "PaymentMethod_Credit card (automatic)        uint8\n",
              "PaymentMethod_Electronic check               uint8\n",
              "PaymentMethod_Mailed check                   uint8\n",
              "dtype: object"
            ]
          },
          "metadata": {
            "tags": []
          },
          "execution_count": 59
        }
      ]
    },
    {
      "cell_type": "markdown",
      "metadata": {
        "id": "MLj1MS2wr9ye"
      },
      "source": [
        "# **Data Scaling **"
      ]
    },
    {
      "cell_type": "code",
      "metadata": {
        "id": "gPhJAGZPsDvN"
      },
      "source": [
        "cols_to_scale = ['tenure','MonthlyCharges','TotalCharges']\r\n",
        "\r\n",
        "from sklearn.preprocessing import MinMaxScaler\r\n",
        "scaler = MinMaxScaler()\r\n",
        "\r\n",
        "telcodf3[cols_to_scale]=scaler.fit_transform(telcodf3[cols_to_scale])"
      ],
      "execution_count": null,
      "outputs": []
    },
    {
      "cell_type": "code",
      "metadata": {
        "colab": {
          "base_uri": "https://localhost:8080/",
          "height": 196
        },
        "id": "1NCTNzfXtJBz",
        "outputId": "88bd3ef9-cda4-49a2-9a71-298553bc8f1b"
      },
      "source": [
        "telcodf3.sample(3)"
      ],
      "execution_count": null,
      "outputs": [
        {
          "output_type": "execute_result",
          "data": {
            "text/html": [
              "<div>\n",
              "<style scoped>\n",
              "    .dataframe tbody tr th:only-of-type {\n",
              "        vertical-align: middle;\n",
              "    }\n",
              "\n",
              "    .dataframe tbody tr th {\n",
              "        vertical-align: top;\n",
              "    }\n",
              "\n",
              "    .dataframe thead th {\n",
              "        text-align: right;\n",
              "    }\n",
              "</style>\n",
              "<table border=\"1\" class=\"dataframe\">\n",
              "  <thead>\n",
              "    <tr style=\"text-align: right;\">\n",
              "      <th></th>\n",
              "      <th>gender</th>\n",
              "      <th>SeniorCitizen</th>\n",
              "      <th>Partner</th>\n",
              "      <th>Dependents</th>\n",
              "      <th>tenure</th>\n",
              "      <th>PhoneService</th>\n",
              "      <th>MultipleLines</th>\n",
              "      <th>OnlineSecurity</th>\n",
              "      <th>OnlineBackup</th>\n",
              "      <th>DeviceProtection</th>\n",
              "      <th>TechSupport</th>\n",
              "      <th>StreamingTV</th>\n",
              "      <th>StreamingMovies</th>\n",
              "      <th>PaperlessBilling</th>\n",
              "      <th>MonthlyCharges</th>\n",
              "      <th>TotalCharges</th>\n",
              "      <th>Churn</th>\n",
              "      <th>InternetService_DSL</th>\n",
              "      <th>InternetService_Fiber optic</th>\n",
              "      <th>InternetService_No</th>\n",
              "      <th>Contract_Month-to-month</th>\n",
              "      <th>Contract_One year</th>\n",
              "      <th>Contract_Two year</th>\n",
              "      <th>PaymentMethod_Bank transfer (automatic)</th>\n",
              "      <th>PaymentMethod_Credit card (automatic)</th>\n",
              "      <th>PaymentMethod_Electronic check</th>\n",
              "      <th>PaymentMethod_Mailed check</th>\n",
              "    </tr>\n",
              "  </thead>\n",
              "  <tbody>\n",
              "    <tr>\n",
              "      <th>5511</th>\n",
              "      <td>0</td>\n",
              "      <td>0</td>\n",
              "      <td>1</td>\n",
              "      <td>0</td>\n",
              "      <td>0.971831</td>\n",
              "      <td>1</td>\n",
              "      <td>1</td>\n",
              "      <td>1</td>\n",
              "      <td>0</td>\n",
              "      <td>0</td>\n",
              "      <td>1</td>\n",
              "      <td>1</td>\n",
              "      <td>1</td>\n",
              "      <td>1</td>\n",
              "      <td>0.584080</td>\n",
              "      <td>0.608239</td>\n",
              "      <td>0</td>\n",
              "      <td>1</td>\n",
              "      <td>0</td>\n",
              "      <td>0</td>\n",
              "      <td>0</td>\n",
              "      <td>0</td>\n",
              "      <td>1</td>\n",
              "      <td>0</td>\n",
              "      <td>1</td>\n",
              "      <td>0</td>\n",
              "      <td>0</td>\n",
              "    </tr>\n",
              "    <tr>\n",
              "      <th>3353</th>\n",
              "      <td>0</td>\n",
              "      <td>0</td>\n",
              "      <td>1</td>\n",
              "      <td>0</td>\n",
              "      <td>0.154930</td>\n",
              "      <td>1</td>\n",
              "      <td>0</td>\n",
              "      <td>0</td>\n",
              "      <td>1</td>\n",
              "      <td>0</td>\n",
              "      <td>0</td>\n",
              "      <td>0</td>\n",
              "      <td>1</td>\n",
              "      <td>1</td>\n",
              "      <td>0.664677</td>\n",
              "      <td>0.113201</td>\n",
              "      <td>0</td>\n",
              "      <td>0</td>\n",
              "      <td>1</td>\n",
              "      <td>0</td>\n",
              "      <td>1</td>\n",
              "      <td>0</td>\n",
              "      <td>0</td>\n",
              "      <td>0</td>\n",
              "      <td>1</td>\n",
              "      <td>0</td>\n",
              "      <td>0</td>\n",
              "    </tr>\n",
              "    <tr>\n",
              "      <th>103</th>\n",
              "      <td>1</td>\n",
              "      <td>1</td>\n",
              "      <td>1</td>\n",
              "      <td>0</td>\n",
              "      <td>0.915493</td>\n",
              "      <td>0</td>\n",
              "      <td>0</td>\n",
              "      <td>0</td>\n",
              "      <td>1</td>\n",
              "      <td>1</td>\n",
              "      <td>0</td>\n",
              "      <td>1</td>\n",
              "      <td>0</td>\n",
              "      <td>0</td>\n",
              "      <td>0.271642</td>\n",
              "      <td>0.347156</td>\n",
              "      <td>0</td>\n",
              "      <td>1</td>\n",
              "      <td>0</td>\n",
              "      <td>0</td>\n",
              "      <td>0</td>\n",
              "      <td>1</td>\n",
              "      <td>0</td>\n",
              "      <td>1</td>\n",
              "      <td>0</td>\n",
              "      <td>0</td>\n",
              "      <td>0</td>\n",
              "    </tr>\n",
              "  </tbody>\n",
              "</table>\n",
              "</div>"
            ],
            "text/plain": [
              "      gender  ...  PaymentMethod_Mailed check\n",
              "5511       0  ...                           0\n",
              "3353       0  ...                           0\n",
              "103        1  ...                           0\n",
              "\n",
              "[3 rows x 27 columns]"
            ]
          },
          "metadata": {
            "tags": []
          },
          "execution_count": 61
        }
      ]
    },
    {
      "cell_type": "code",
      "metadata": {
        "id": "l0JhMqBItXH7"
      },
      "source": [
        "x= telcodf3.drop('Churn',axis='columns')\r\n",
        "y=telcodf3['Churn']"
      ],
      "execution_count": null,
      "outputs": []
    },
    {
      "cell_type": "code",
      "metadata": {
        "id": "nrssUR1Nt8xA"
      },
      "source": [
        "from sklearn.model_selection import train_test_split\r\n",
        "X_train,X_test,y_train,y_test = train_test_split(x,y,test_size=0.2,random_state=5)"
      ],
      "execution_count": null,
      "outputs": []
    },
    {
      "cell_type": "code",
      "metadata": {
        "colab": {
          "base_uri": "https://localhost:8080/"
        },
        "id": "X5WcoauGtk0M",
        "outputId": "3d200abb-2b0b-406f-ac95-595bcba81763"
      },
      "source": [
        "X_train.shape"
      ],
      "execution_count": null,
      "outputs": [
        {
          "output_type": "execute_result",
          "data": {
            "text/plain": [
              "(5625, 26)"
            ]
          },
          "metadata": {
            "tags": []
          },
          "execution_count": 65
        }
      ]
    },
    {
      "cell_type": "code",
      "metadata": {
        "colab": {
          "base_uri": "https://localhost:8080/"
        },
        "id": "cNZxYJsbur9N",
        "outputId": "9a80159e-3e8c-4e2d-c833-8e330e0ac997"
      },
      "source": [
        "X_test.shape"
      ],
      "execution_count": null,
      "outputs": [
        {
          "output_type": "execute_result",
          "data": {
            "text/plain": [
              "(1407, 26)"
            ]
          },
          "metadata": {
            "tags": []
          },
          "execution_count": 67
        }
      ]
    },
    {
      "cell_type": "code",
      "metadata": {
        "colab": {
          "base_uri": "https://localhost:8080/"
        },
        "id": "BmIkNKD0u5yM",
        "outputId": "e21ab946-1878-4e56-e66e-97e6d5e5e695"
      },
      "source": [
        "import tensorflow as tf\r\n",
        "from tensorflow import keras\r\n",
        "\r\n",
        "model = keras.Sequential([\r\n",
        "                          keras.layers.Dense(26, input_shape=(26,),activation='relu'),\r\n",
        "                          keras.layers.Dense(1,activation='sigmoid')\r\n",
        "\r\n",
        "])\r\n",
        "\r\n",
        "model.compile(optimizer='adam',\r\n",
        "              loss ='binary_crossentropy',\r\n",
        "              metrics = ['accuracy'])\r\n",
        "\r\n",
        "model.fit(X_train, y_train, epochs=100)"
      ],
      "execution_count": null,
      "outputs": [
        {
          "output_type": "stream",
          "text": [
            "Epoch 1/100\n",
            "176/176 [==============================] - 1s 1ms/step - loss: 0.5570 - accuracy: 0.6980\n",
            "Epoch 2/100\n",
            "176/176 [==============================] - 0s 1ms/step - loss: 0.4416 - accuracy: 0.7866\n",
            "Epoch 3/100\n",
            "176/176 [==============================] - 0s 1ms/step - loss: 0.4208 - accuracy: 0.7998\n",
            "Epoch 4/100\n",
            "176/176 [==============================] - 0s 1ms/step - loss: 0.4142 - accuracy: 0.8013\n",
            "Epoch 5/100\n",
            "176/176 [==============================] - 0s 1ms/step - loss: 0.4178 - accuracy: 0.8017\n",
            "Epoch 6/100\n",
            "176/176 [==============================] - 0s 1ms/step - loss: 0.3982 - accuracy: 0.8146\n",
            "Epoch 7/100\n",
            "176/176 [==============================] - 0s 1ms/step - loss: 0.4121 - accuracy: 0.8142\n",
            "Epoch 8/100\n",
            "176/176 [==============================] - 0s 1ms/step - loss: 0.4110 - accuracy: 0.8104\n",
            "Epoch 9/100\n",
            "176/176 [==============================] - 0s 1ms/step - loss: 0.4028 - accuracy: 0.8151\n",
            "Epoch 10/100\n",
            "176/176 [==============================] - 0s 1ms/step - loss: 0.3985 - accuracy: 0.8159\n",
            "Epoch 11/100\n",
            "176/176 [==============================] - 0s 1ms/step - loss: 0.4145 - accuracy: 0.8128\n",
            "Epoch 12/100\n",
            "176/176 [==============================] - 0s 1ms/step - loss: 0.4050 - accuracy: 0.8053\n",
            "Epoch 13/100\n",
            "176/176 [==============================] - 0s 1ms/step - loss: 0.3960 - accuracy: 0.8181\n",
            "Epoch 14/100\n",
            "176/176 [==============================] - 0s 1ms/step - loss: 0.4138 - accuracy: 0.8080\n",
            "Epoch 15/100\n",
            "176/176 [==============================] - 0s 1ms/step - loss: 0.4013 - accuracy: 0.8180\n",
            "Epoch 16/100\n",
            "176/176 [==============================] - 0s 1ms/step - loss: 0.4047 - accuracy: 0.8116\n",
            "Epoch 17/100\n",
            "176/176 [==============================] - 0s 1ms/step - loss: 0.3974 - accuracy: 0.8161\n",
            "Epoch 18/100\n",
            "176/176 [==============================] - 0s 1ms/step - loss: 0.4066 - accuracy: 0.8120\n",
            "Epoch 19/100\n",
            "176/176 [==============================] - 0s 1ms/step - loss: 0.4021 - accuracy: 0.8118\n",
            "Epoch 20/100\n",
            "176/176 [==============================] - 0s 1ms/step - loss: 0.3999 - accuracy: 0.8146\n",
            "Epoch 21/100\n",
            "176/176 [==============================] - 0s 1ms/step - loss: 0.4023 - accuracy: 0.8166\n",
            "Epoch 22/100\n",
            "176/176 [==============================] - 0s 1ms/step - loss: 0.3866 - accuracy: 0.8225\n",
            "Epoch 23/100\n",
            "176/176 [==============================] - 0s 1ms/step - loss: 0.4022 - accuracy: 0.8127\n",
            "Epoch 24/100\n",
            "176/176 [==============================] - 0s 1ms/step - loss: 0.3961 - accuracy: 0.8074\n",
            "Epoch 25/100\n",
            "176/176 [==============================] - 0s 1ms/step - loss: 0.3967 - accuracy: 0.8143\n",
            "Epoch 26/100\n",
            "176/176 [==============================] - 0s 1ms/step - loss: 0.3983 - accuracy: 0.8120\n",
            "Epoch 27/100\n",
            "176/176 [==============================] - 0s 1ms/step - loss: 0.4076 - accuracy: 0.8101\n",
            "Epoch 28/100\n",
            "176/176 [==============================] - 0s 1ms/step - loss: 0.3948 - accuracy: 0.8201\n",
            "Epoch 29/100\n",
            "176/176 [==============================] - 0s 1ms/step - loss: 0.3883 - accuracy: 0.8248\n",
            "Epoch 30/100\n",
            "176/176 [==============================] - 0s 1ms/step - loss: 0.4026 - accuracy: 0.8152\n",
            "Epoch 31/100\n",
            "176/176 [==============================] - 0s 1ms/step - loss: 0.3873 - accuracy: 0.8172\n",
            "Epoch 32/100\n",
            "176/176 [==============================] - 0s 1ms/step - loss: 0.3923 - accuracy: 0.8158\n",
            "Epoch 33/100\n",
            "176/176 [==============================] - 0s 1ms/step - loss: 0.3905 - accuracy: 0.8232\n",
            "Epoch 34/100\n",
            "176/176 [==============================] - 0s 1ms/step - loss: 0.3929 - accuracy: 0.8136\n",
            "Epoch 35/100\n",
            "176/176 [==============================] - 0s 1ms/step - loss: 0.3952 - accuracy: 0.8138\n",
            "Epoch 36/100\n",
            "176/176 [==============================] - 0s 1ms/step - loss: 0.3938 - accuracy: 0.8144\n",
            "Epoch 37/100\n",
            "176/176 [==============================] - 0s 1ms/step - loss: 0.3954 - accuracy: 0.8200\n",
            "Epoch 38/100\n",
            "176/176 [==============================] - 0s 1ms/step - loss: 0.3837 - accuracy: 0.8242\n",
            "Epoch 39/100\n",
            "176/176 [==============================] - 0s 1ms/step - loss: 0.3885 - accuracy: 0.8186\n",
            "Epoch 40/100\n",
            "176/176 [==============================] - 0s 1ms/step - loss: 0.3752 - accuracy: 0.8302\n",
            "Epoch 41/100\n",
            "176/176 [==============================] - 0s 1ms/step - loss: 0.3841 - accuracy: 0.8259\n",
            "Epoch 42/100\n",
            "176/176 [==============================] - 0s 1ms/step - loss: 0.3781 - accuracy: 0.8232\n",
            "Epoch 43/100\n",
            "176/176 [==============================] - 0s 1ms/step - loss: 0.3913 - accuracy: 0.8229\n",
            "Epoch 44/100\n",
            "176/176 [==============================] - 0s 1ms/step - loss: 0.3910 - accuracy: 0.8142\n",
            "Epoch 45/100\n",
            "176/176 [==============================] - 0s 1ms/step - loss: 0.3821 - accuracy: 0.8217\n",
            "Epoch 46/100\n",
            "176/176 [==============================] - 0s 1ms/step - loss: 0.3844 - accuracy: 0.8213\n",
            "Epoch 47/100\n",
            "176/176 [==============================] - 0s 1ms/step - loss: 0.3909 - accuracy: 0.8196\n",
            "Epoch 48/100\n",
            "176/176 [==============================] - 0s 1ms/step - loss: 0.3763 - accuracy: 0.8224\n",
            "Epoch 49/100\n",
            "176/176 [==============================] - 0s 1ms/step - loss: 0.3771 - accuracy: 0.8305\n",
            "Epoch 50/100\n",
            "176/176 [==============================] - 0s 1ms/step - loss: 0.3904 - accuracy: 0.8194\n",
            "Epoch 51/100\n",
            "176/176 [==============================] - 0s 1ms/step - loss: 0.3883 - accuracy: 0.8152\n",
            "Epoch 52/100\n",
            "176/176 [==============================] - 0s 1ms/step - loss: 0.3775 - accuracy: 0.8221\n",
            "Epoch 53/100\n",
            "176/176 [==============================] - 0s 1ms/step - loss: 0.3850 - accuracy: 0.8239\n",
            "Epoch 54/100\n",
            "176/176 [==============================] - 0s 1ms/step - loss: 0.3759 - accuracy: 0.8301\n",
            "Epoch 55/100\n",
            "176/176 [==============================] - 0s 1ms/step - loss: 0.3897 - accuracy: 0.8206\n",
            "Epoch 56/100\n",
            "176/176 [==============================] - 0s 1ms/step - loss: 0.3763 - accuracy: 0.8189\n",
            "Epoch 57/100\n",
            "176/176 [==============================] - 0s 1ms/step - loss: 0.3907 - accuracy: 0.8157\n",
            "Epoch 58/100\n",
            "176/176 [==============================] - 0s 1ms/step - loss: 0.3821 - accuracy: 0.8212\n",
            "Epoch 59/100\n",
            "176/176 [==============================] - 0s 1ms/step - loss: 0.3772 - accuracy: 0.8258\n",
            "Epoch 60/100\n",
            "176/176 [==============================] - 0s 1ms/step - loss: 0.3818 - accuracy: 0.8181\n",
            "Epoch 61/100\n",
            "176/176 [==============================] - 0s 2ms/step - loss: 0.4051 - accuracy: 0.8042\n",
            "Epoch 62/100\n",
            "176/176 [==============================] - 0s 1ms/step - loss: 0.3832 - accuracy: 0.8225\n",
            "Epoch 63/100\n",
            "176/176 [==============================] - 0s 1ms/step - loss: 0.3805 - accuracy: 0.8228\n",
            "Epoch 64/100\n",
            "176/176 [==============================] - 0s 1ms/step - loss: 0.3668 - accuracy: 0.8331\n",
            "Epoch 65/100\n",
            "176/176 [==============================] - 0s 1ms/step - loss: 0.3881 - accuracy: 0.8164\n",
            "Epoch 66/100\n",
            "176/176 [==============================] - 0s 1ms/step - loss: 0.3802 - accuracy: 0.8178\n",
            "Epoch 67/100\n",
            "176/176 [==============================] - 0s 1ms/step - loss: 0.3865 - accuracy: 0.8216\n",
            "Epoch 68/100\n",
            "176/176 [==============================] - 0s 1ms/step - loss: 0.3791 - accuracy: 0.8241\n",
            "Epoch 69/100\n",
            "176/176 [==============================] - 0s 1ms/step - loss: 0.3775 - accuracy: 0.8208\n",
            "Epoch 70/100\n",
            "176/176 [==============================] - 0s 1ms/step - loss: 0.3599 - accuracy: 0.8373\n",
            "Epoch 71/100\n",
            "176/176 [==============================] - 0s 1ms/step - loss: 0.3796 - accuracy: 0.8136\n",
            "Epoch 72/100\n",
            "176/176 [==============================] - 0s 1ms/step - loss: 0.3784 - accuracy: 0.8160\n",
            "Epoch 73/100\n",
            "176/176 [==============================] - 0s 1ms/step - loss: 0.3839 - accuracy: 0.8281\n",
            "Epoch 74/100\n",
            "176/176 [==============================] - 0s 1ms/step - loss: 0.3736 - accuracy: 0.8224\n",
            "Epoch 75/100\n",
            "176/176 [==============================] - 0s 1ms/step - loss: 0.3642 - accuracy: 0.8359\n",
            "Epoch 76/100\n",
            "176/176 [==============================] - 0s 1ms/step - loss: 0.3715 - accuracy: 0.8182\n",
            "Epoch 77/100\n",
            "176/176 [==============================] - 0s 1ms/step - loss: 0.3746 - accuracy: 0.8228\n",
            "Epoch 78/100\n",
            "176/176 [==============================] - 0s 1ms/step - loss: 0.3886 - accuracy: 0.8180\n",
            "Epoch 79/100\n",
            "176/176 [==============================] - 0s 1ms/step - loss: 0.3776 - accuracy: 0.8287\n",
            "Epoch 80/100\n",
            "176/176 [==============================] - 0s 1ms/step - loss: 0.3747 - accuracy: 0.8245\n",
            "Epoch 81/100\n",
            "176/176 [==============================] - 0s 1ms/step - loss: 0.3756 - accuracy: 0.8250\n",
            "Epoch 82/100\n",
            "176/176 [==============================] - 0s 1ms/step - loss: 0.3682 - accuracy: 0.8293\n",
            "Epoch 83/100\n",
            "176/176 [==============================] - 0s 1ms/step - loss: 0.3860 - accuracy: 0.8225\n",
            "Epoch 84/100\n",
            "176/176 [==============================] - 0s 1ms/step - loss: 0.3686 - accuracy: 0.8193\n",
            "Epoch 85/100\n",
            "176/176 [==============================] - 0s 1ms/step - loss: 0.3657 - accuracy: 0.8282\n",
            "Epoch 86/100\n",
            "176/176 [==============================] - 0s 1ms/step - loss: 0.3759 - accuracy: 0.8192\n",
            "Epoch 87/100\n",
            "176/176 [==============================] - 0s 1ms/step - loss: 0.3733 - accuracy: 0.8281\n",
            "Epoch 88/100\n",
            "176/176 [==============================] - 0s 1ms/step - loss: 0.3716 - accuracy: 0.8268\n",
            "Epoch 89/100\n",
            "176/176 [==============================] - 0s 1ms/step - loss: 0.3782 - accuracy: 0.8255\n",
            "Epoch 90/100\n",
            "176/176 [==============================] - 0s 1ms/step - loss: 0.3768 - accuracy: 0.8225\n",
            "Epoch 91/100\n",
            "176/176 [==============================] - 0s 1ms/step - loss: 0.3666 - accuracy: 0.8318\n",
            "Epoch 92/100\n",
            "176/176 [==============================] - 0s 1ms/step - loss: 0.3799 - accuracy: 0.8244\n",
            "Epoch 93/100\n",
            "176/176 [==============================] - 0s 1ms/step - loss: 0.3834 - accuracy: 0.8223\n",
            "Epoch 94/100\n",
            "176/176 [==============================] - 0s 1ms/step - loss: 0.3609 - accuracy: 0.8286\n",
            "Epoch 95/100\n",
            "176/176 [==============================] - 0s 1ms/step - loss: 0.3647 - accuracy: 0.8286\n",
            "Epoch 96/100\n",
            "176/176 [==============================] - 0s 1ms/step - loss: 0.3842 - accuracy: 0.8182\n",
            "Epoch 97/100\n",
            "176/176 [==============================] - 0s 1ms/step - loss: 0.3754 - accuracy: 0.8286\n",
            "Epoch 98/100\n",
            "176/176 [==============================] - 0s 1ms/step - loss: 0.3761 - accuracy: 0.8264\n",
            "Epoch 99/100\n",
            "176/176 [==============================] - 0s 1ms/step - loss: 0.3721 - accuracy: 0.8296\n",
            "Epoch 100/100\n",
            "176/176 [==============================] - 0s 1ms/step - loss: 0.3784 - accuracy: 0.8175\n"
          ],
          "name": "stdout"
        },
        {
          "output_type": "execute_result",
          "data": {
            "text/plain": [
              "<tensorflow.python.keras.callbacks.History at 0x7fa236c2b1d0>"
            ]
          },
          "metadata": {
            "tags": []
          },
          "execution_count": 72
        }
      ]
    },
    {
      "cell_type": "code",
      "metadata": {
        "colab": {
          "base_uri": "https://localhost:8080/"
        },
        "id": "Xk4GqFT9yFAX",
        "outputId": "9c8dd6b9-ac56-43e0-cae2-a90b3670b9ee"
      },
      "source": [
        "model.evaluate(X_test,y_test)"
      ],
      "execution_count": null,
      "outputs": [
        {
          "output_type": "stream",
          "text": [
            "44/44 [==============================] - 0s 967us/step - loss: 0.4598 - accuracy: 0.7790\n"
          ],
          "name": "stdout"
        },
        {
          "output_type": "execute_result",
          "data": {
            "text/plain": [
              "[0.45981794595718384, 0.7789623141288757]"
            ]
          },
          "metadata": {
            "tags": []
          },
          "execution_count": 73
        }
      ]
    },
    {
      "cell_type": "code",
      "metadata": {
        "id": "3llWBvCOyUrt"
      },
      "source": [
        "y_predict = model.predict(X_test)"
      ],
      "execution_count": null,
      "outputs": []
    },
    {
      "cell_type": "code",
      "metadata": {
        "colab": {
          "base_uri": "https://localhost:8080/"
        },
        "id": "OrFrQOTG70HF",
        "outputId": "9c9c678d-3332-4e61-c820-a25f2f74fb45"
      },
      "source": [
        "y_predict"
      ],
      "execution_count": null,
      "outputs": [
        {
          "output_type": "execute_result",
          "data": {
            "text/plain": [
              "array([[0.2051135 ],\n",
              "       [0.37998486],\n",
              "       [0.00880712],\n",
              "       ...,\n",
              "       [0.73851025],\n",
              "       [0.7093406 ],\n",
              "       [0.73656595]], dtype=float32)"
            ]
          },
          "metadata": {
            "tags": []
          },
          "execution_count": 82
        }
      ]
    },
    {
      "cell_type": "code",
      "metadata": {
        "colab": {
          "base_uri": "https://localhost:8080/"
        },
        "id": "oT8mvsZD7_p4",
        "outputId": "8c8bb353-cf6b-4592-afc0-f0550497d86c"
      },
      "source": [
        "y_test[:10]"
      ],
      "execution_count": null,
      "outputs": [
        {
          "output_type": "execute_result",
          "data": {
            "text/plain": [
              "2660    0\n",
              "744     0\n",
              "5579    1\n",
              "64      1\n",
              "3287    1\n",
              "816     1\n",
              "2670    0\n",
              "5920    0\n",
              "1023    0\n",
              "6087    0\n",
              "Name: Churn, dtype: int64"
            ]
          },
          "metadata": {
            "tags": []
          },
          "execution_count": 87
        }
      ]
    },
    {
      "cell_type": "code",
      "metadata": {
        "id": "4hnYLjvS8np_"
      },
      "source": [
        "y_pred =[]\r\n",
        "for element in y_predict:\r\n",
        "  if element > 0.5:\r\n",
        "    y_pred.append(1)\r\n",
        "  else:\r\n",
        "    y_pred.append(0)"
      ],
      "execution_count": null,
      "outputs": []
    },
    {
      "cell_type": "code",
      "metadata": {
        "colab": {
          "base_uri": "https://localhost:8080/"
        },
        "id": "ZBxvnpef9Lmo",
        "outputId": "7220c52a-4f96-4788-adb3-510cd91deb66"
      },
      "source": [
        "y_pred[:10]"
      ],
      "execution_count": null,
      "outputs": [
        {
          "output_type": "execute_result",
          "data": {
            "text/plain": [
              "[0, 0, 0, 1, 1, 1, 0, 0, 0, 0]"
            ]
          },
          "metadata": {
            "tags": []
          },
          "execution_count": 86
        }
      ]
    },
    {
      "cell_type": "code",
      "metadata": {
        "colab": {
          "base_uri": "https://localhost:8080/"
        },
        "id": "rpj7BsBx9vS6",
        "outputId": "6dddb10c-b991-4566-fd6d-89112a3c5495"
      },
      "source": [
        "from sklearn.metrics import confusion_matrix , classification_report\r\n",
        "\r\n",
        "print(classification_report(y_test,y_pred))"
      ],
      "execution_count": null,
      "outputs": [
        {
          "output_type": "stream",
          "text": [
            "              precision    recall  f1-score   support\n",
            "\n",
            "           0       0.82      0.88      0.85       999\n",
            "           1       0.65      0.52      0.58       408\n",
            "\n",
            "    accuracy                           0.78      1407\n",
            "   macro avg       0.73      0.70      0.71      1407\n",
            "weighted avg       0.77      0.78      0.77      1407\n",
            "\n"
          ],
          "name": "stdout"
        }
      ]
    },
    {
      "cell_type": "code",
      "metadata": {
        "colab": {
          "base_uri": "https://localhost:8080/",
          "height": 459
        },
        "id": "_OaZiwbk-KxC",
        "outputId": "0cc37c24-6253-4cdc-fd1e-fd610e74e1b3"
      },
      "source": [
        "import seaborn as sn\r\n",
        "cm = tf.math.confusion_matrix(labels=y_test,predictions=y_pred)\r\n",
        "\r\n",
        "plt.figure(figsize =(10,7))\r\n",
        "sn.heatmap(cm,annot=True,fmt='d')\r\n",
        "plt.xlabel(\"Predicted\")\r\n",
        "plt.ylabel(\"Actual\")"
      ],
      "execution_count": null,
      "outputs": [
        {
          "output_type": "execute_result",
          "data": {
            "text/plain": [
              "Text(69.0, 0.5, 'Actual')"
            ]
          },
          "metadata": {
            "tags": []
          },
          "execution_count": 91
        },
        {
          "output_type": "display_data",
          "data": {
            "image/png": "[encoded data removed]",
            "text/plain": [
              "<Figure size 720x504 with 2 Axes>"
            ]
          },
          "metadata": {
            "tags": [],
            "needs_background": "light"
          }
        }
      ]
    }
  ]
}